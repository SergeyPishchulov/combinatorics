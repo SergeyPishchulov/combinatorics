{
 "cells": [
  {
   "attachments": {},
   "cell_type": "markdown",
   "metadata": {},
   "source": [
    "imports"
   ]
  },
  {
   "cell_type": "code",
   "execution_count": 79,
   "metadata": {},
   "outputs": [],
   "source": [
    "import random\n",
    "random.seed(202)\n",
    "from bitarray import bitarray, bits2bytes\n",
    "import pandas as pd\n",
    "import plotly.express as px\n",
    "import math\n"
   ]
  },
  {
   "cell_type": "code",
   "execution_count": 2,
   "metadata": {},
   "outputs": [],
   "source": [
    "with open('../Jack_London_-_The_Sea_Wolf_ascii.txt', 'r') as file:\n",
    "    text = file.read()\n"
   ]
  },
  {
   "cell_type": "code",
   "execution_count": 3,
   "metadata": {},
   "outputs": [],
   "source": [
    "# sorted(list(set(text)))\n"
   ]
  },
  {
   "cell_type": "code",
   "execution_count": 4,
   "metadata": {},
   "outputs": [],
   "source": [
    "# Implementation based on https://www.cs.helsinki.fi/u/tpkarkka/publications/jacm05-revised.pdf and https://mailund.dk/posts/skew-python-go/\n",
    "\n",
    "import numpy as np\n",
    "import numba\n",
    "from typing import Tuple\n",
    "\n",
    "\n",
    "@numba.jit()\n",
    "def merge(x: np.array, SA12: np.array, SA3: np.array) -> np.array:\n",
    "    \"Merge the suffixes in sorted SA12 and SA3.\"\n",
    "    ISA = np.zeros((len(x),), dtype='int')\n",
    "    for i in range(len(SA12)):\n",
    "        ISA[SA12[i]] = i\n",
    "    SA = np.zeros((len(x),), dtype='int')\n",
    "    idx = 0\n",
    "    i, j = 0, 0\n",
    "    while i < len(SA12) and j < len(SA3):\n",
    "        if less(x, SA12[i], SA3[j], ISA):\n",
    "            SA[idx] = SA12[i]\n",
    "            idx += 1\n",
    "            i += 1\n",
    "        else:\n",
    "            SA[idx] = SA3[j]\n",
    "            idx += 1\n",
    "            j += 1\n",
    "    if i < len(SA12):\n",
    "        SA[idx:len(SA)] = SA12[i:]\n",
    "    elif j < len(SA3):\n",
    "        SA[idx:len(SA)] = SA3[j:]\n",
    "    return SA\n",
    "\n",
    "\n",
    "@numba.jit()\n",
    "def u_idx(i: int, m: int) -> int:\n",
    "    \"Map indices in u back to indices in the original string.\"\n",
    "    if i < m:\n",
    "        return 1 + 3 * i\n",
    "    else:\n",
    "        return 2 + 3 * (i - m - 1)\n",
    "\n",
    "\n",
    "@numba.jit()\n",
    "def safe_idx(x: np.array, i: int) -> int:\n",
    "    \"Hack to get zero if we index beyond the end.\"\n",
    "    return 0 if i >= len(x) else x[i]\n",
    "\n",
    "\n",
    "@numba.jit()\n",
    "def symbcount(x: np.array, asize: int) -> np.array:\n",
    "    \"Count how often we see each character in the alphabet.\"\n",
    "    counts = np.zeros((asize,), dtype=\"int\")\n",
    "    for c in x:\n",
    "        counts[c] += 1\n",
    "    return counts\n",
    "\n",
    "\n",
    "@numba.jit()\n",
    "def cumsum(counts: np.array) -> np.array:\n",
    "    \"Compute the cumulative sum from the character count.\"\n",
    "    res = np.zeros((len(counts, )), dtype='int')\n",
    "    acc = 0\n",
    "    for i, k in enumerate(counts):\n",
    "        res[i] = acc\n",
    "        acc += k\n",
    "    return res\n",
    "\n",
    "\n",
    "@numba.jit()\n",
    "def bucket_sort(x: np.array, asize: int,\n",
    "                idx: np.array, offset: int = 0) -> np.array:\n",
    "    \"Sort indices in idx according to x[i + offset].\"\n",
    "    sort_symbs = np.array([safe_idx(x, i + offset) for i in idx])\n",
    "    counts = symbcount(sort_symbs, asize)\n",
    "    buckets = cumsum(counts)\n",
    "    out = np.zeros((len(idx),), dtype='int')\n",
    "    for i in idx:\n",
    "        bucket = safe_idx(x, i + offset)\n",
    "        out[buckets[bucket]] = i\n",
    "        buckets[bucket] += 1\n",
    "    return out\n",
    "\n",
    "\n",
    "@numba.jit()\n",
    "def radix3(x: np.array, asize: int, idx: np.array) -> np.array:\n",
    "    \"Sort indices in idx according to their first three letters in x.\"\n",
    "    idx = bucket_sort(x, asize, idx, 2)\n",
    "    idx = bucket_sort(x, asize, idx, 1)\n",
    "    return bucket_sort(x, asize, idx)\n",
    "\n",
    "\n",
    "@numba.jit()\n",
    "def triplet(x: np.array, i: int) -> Tuple[int, int, int]:\n",
    "    \"Extract the triplet (x[i],x[i+1],x[i+2]).\"\n",
    "    return safe_idx(x, i), safe_idx(x, i + 1), safe_idx(x, i + 2)\n",
    "\n",
    "\n",
    "@numba.jit()\n",
    "def collect_alphabet(x: np.array, idx: np.array) -> Tuple[np.array, int]:\n",
    "    \"Map the triplets starting at idx to a new alphabet.\"\n",
    "    alpha = np.zeros((len(x),), dtype='int')\n",
    "    value = 1\n",
    "    last_trip = -1, -1, -1\n",
    "    for i in idx:\n",
    "        trip = triplet(x, i)\n",
    "        if trip != last_trip:\n",
    "            value += 1\n",
    "            last_trip = trip\n",
    "        alpha[i] = value\n",
    "    return alpha, value - 1\n",
    "\n",
    "\n",
    "@numba.jit()\n",
    "def build_u(x: np.array, alpha: np.array) -> np.array:\n",
    "    \"Construct u string, using 1 as central sentinel.\"\n",
    "    a = np.array([alpha[i] for i in range(1, len(x), 3)] +\n",
    "                 [1] +\n",
    "                 [alpha[i] for i in range(2, len(x), 3)])\n",
    "    return a\n",
    "\n",
    "\n",
    "@numba.jit()\n",
    "def less(x: np.array, i: int, j: int, ISA: np.array) -> bool:\n",
    "    \"Check if x[i:] < x[j:] using the inverse suffix array for SA12.\"\n",
    "    a: int = safe_idx(x, i)\n",
    "    b: int = safe_idx(x, j)\n",
    "    if a < b:\n",
    "        return True\n",
    "    if a > b:\n",
    "        return False\n",
    "    if i % 3 != 0 and j % 3 != 0:\n",
    "        return ISA[i] < ISA[j]\n",
    "    return less(x, i + 1, j + 1, ISA)\n",
    "\n",
    "\n",
    "@numba.jit()\n",
    "def skew_rec(x: np.array, asize: int) -> np.array:\n",
    "    \"skew/DC3 SA construction algorithm.\"\n",
    "\n",
    "    SA12 = np.array([i for i in range(len(x)) if i % 3 != 0])\n",
    "\n",
    "    SA12 = radix3(x, asize, SA12)\n",
    "    new_alpha, new_asize = collect_alphabet(x, SA12)\n",
    "    if new_asize < len(SA12):\n",
    "        # Recursively sort SA12\n",
    "        u = build_u(x, new_alpha)\n",
    "        sa_u = skew_rec(u, new_asize + 2)\n",
    "        m = len(sa_u) // 2\n",
    "        SA12 = np.array([u_idx(i, m) for i in sa_u if i != m])\n",
    "\n",
    "    if len(x) % 3 == 1:\n",
    "        SA3 = np.array([len(x) - 1] + [i - 1 for i in SA12 if i % 3 == 1])\n",
    "    else:\n",
    "        SA3 = np.array([i - 1 for i in SA12 if i % 3 == 1])\n",
    "    SA3 = bucket_sort(x, asize, SA3)\n",
    "    return merge(x, SA12, SA3)\n",
    "\n",
    "\n",
    "def get_suffix_array(x: str) -> np.array:\n",
    "    if \"$\" in x:\n",
    "        raise ValueError('Text should not contain $')\n",
    "    str_to_int = {\n",
    "        \"$\": 0,  # End of strig\n",
    "    }\n",
    "    str_to_int = str_to_int | {\n",
    "        c: n+1\n",
    "        for (n, c) in enumerate(sorted(list(set(x))))\n",
    "    }\n",
    "    return skew_rec(np.array([str_to_int[y] for y in x]), len(str_to_int))\n"
   ]
  },
  {
   "cell_type": "code",
   "execution_count": 5,
   "metadata": {},
   "outputs": [
    {
     "name": "stdout",
     "output_type": "stream",
     "text": [
      "4ACTGNAGCTN\n",
      "ACTGNAGCTN4\n",
      "AGCTN4ACTGN\n",
      "CTGNAGCTN4A\n",
      "CTN4ACTGNAG\n",
      "GCTN4ACTGNA\n",
      "GNAGCTN4ACT\n",
      "NAGCTN4ACTG\n",
      "N4ACTGNAGCT\n",
      "TGNAGCTN4AC\n",
      "TN4ACTGNAGC\n",
      "----------\n"
     ]
    }
   ],
   "source": [
    "def print_sa(sa, t):\n",
    "    for x in sa:\n",
    "        print(t[x:]+t[0:x])\n",
    "    print('-'*10)\n",
    "\n",
    "\n",
    "dna_string = 'AGCTN4ACTGN'\n",
    "suffix_array = get_suffix_array(dna_string)\n",
    "print_sa(suffix_array, dna_string)\n"
   ]
  },
  {
   "cell_type": "code",
   "execution_count": 6,
   "metadata": {},
   "outputs": [
    {
     "data": {
      "text/plain": [
       "[1, 4, 7, 0, 8, 9, 10, 11, 2, 3, 5, 6]"
      ]
     },
     "execution_count": 6,
     "metadata": {},
     "output_type": "execute_result"
    }
   ],
   "source": [
    "def get_sort_canon_repr(s):\n",
    "    \"\"\"Returns cononical representation of sort by string s\n",
    "    e.g. [3,1,0,2]\"\"\"\n",
    "    sort_info = [None]*len(s)\n",
    "    for new_place, (c, old_place) in enumerate(sorted([(c, i) for i, c\n",
    "                                                       in enumerate(s)])):\n",
    "        sort_info[old_place] = new_place\n",
    "    return sort_info\n",
    "\n",
    "\n",
    "def apply_permutation(s, perm):\n",
    "    res = [None]*len(s)\n",
    "    for old_place, new_place in enumerate(perm):\n",
    "        res[new_place] = s[old_place]\n",
    "    return res\n",
    "\n",
    "\n",
    "def inverse_permutation(canon_repr):\n",
    "    res = [None]*len(canon_repr)\n",
    "    for old_place, new_place in enumerate(canon_repr):\n",
    "        res[new_place] = old_place\n",
    "    return res\n",
    "\n",
    "\n",
    "ban_bwt = 'а#ннБннБаааа'\n",
    "inverse_permutation(get_sort_canon_repr(ban_bwt))\n"
   ]
  },
  {
   "cell_type": "code",
   "execution_count": 7,
   "metadata": {},
   "outputs": [],
   "source": [
    "SHARP = '#'\n",
    "\n",
    "\n",
    "class BWT:\n",
    "    def encode(t: str):\n",
    "        if SHARP not in t:\n",
    "            raise ValueError(f\"{SHARP}  is not found in text\")\n",
    "        bwt = [None]*len(t)\n",
    "        sa = get_suffix_array(t)\n",
    "        # print_sa(sa, t)\n",
    "        for i in range(len(t)):\n",
    "            bwt[i] = t[sa[i]-1]\n",
    "        return ''.join(bwt)\n",
    "\n",
    "    def decode(bwt: str):\n",
    "        sigma = get_sort_canon_repr(bwt)\n",
    "        inversed_sigma = inverse_permutation(sigma)\n",
    "        res = [None]*len(bwt)\n",
    "        i = bwt.index(SHARP)\n",
    "        index_in_first_col = inversed_sigma[i]\n",
    "        for j, c in enumerate(bwt):\n",
    "            res[j] = bwt[index_in_first_col]\n",
    "            index_in_first_col = inversed_sigma[index_in_first_col]\n",
    "        return ''.join(res)\n",
    "\n",
    "\n",
    "def _shift(alphabet, up, lo):\n",
    "    for i in range(lo, up-1, -1):\n",
    "        alphabet[i+1] = alphabet[i]\n",
    "    return alphabet\n",
    "\n",
    "\n",
    "class mtf:\n",
    "    def get_alphabet():\n",
    "        # return list('#Ban')\n",
    "        return [chr(i) for i in range(ord('z')+1)]\n",
    "\n",
    "    def update_alphabet(alphabet, ind, c):\n",
    "        if ind > 1:\n",
    "            _shift(alphabet, 1, ind-1)\n",
    "            alphabet[1] = c\n",
    "        if ind == 1:\n",
    "            alphabet[1] = alphabet[0]\n",
    "            alphabet[0] = c\n",
    "\n",
    "    def encode(t: str):\n",
    "        alphabet = mtf.get_alphabet()\n",
    "        diff = set(t)-set(alphabet)\n",
    "        if diff:\n",
    "            raise ValueError(\n",
    "                f'Found chars in text that are not presented in alphabet: {diff}')\n",
    "        res = []\n",
    "        for c in t:\n",
    "            ind = alphabet.index(c)\n",
    "            res.append(ind)\n",
    "            mtf.update_alphabet(alphabet, ind, c)\n",
    "\n",
    "        return res\n",
    "\n",
    "    def decode(encoded):\n",
    "        alphabet = mtf.get_alphabet()\n",
    "        res = []\n",
    "        for ind in encoded:\n",
    "            c = alphabet[ind]\n",
    "            res.append(c)\n",
    "            mtf.update_alphabet(alphabet, ind, c)\n",
    "        return ''.join(res)\n",
    "\n",
    "\n",
    "class rle:\n",
    "    def encode(ar):\n",
    "        res = []\n",
    "        cntrs = []\n",
    "        prev_is_zero = False\n",
    "        for x in ar:\n",
    "            if x != 0:\n",
    "                res.append(x)\n",
    "                prev_is_zero = False\n",
    "                continue\n",
    "            if prev_is_zero:\n",
    "                cntrs[-1] += 1\n",
    "            else:\n",
    "                res.append(0)\n",
    "                cntrs.append(1)\n",
    "            prev_is_zero = True\n",
    "        # print(f\"max in cntrs = {max(cntrs)}\")\n",
    "        return res, cntrs\n",
    "\n",
    "    def decode(rle_encoded, cntrs):\n",
    "        res = []\n",
    "        for x in rle_encoded:\n",
    "            if x != 0:\n",
    "                res.append(x)\n",
    "                continue\n",
    "            res.extend([0]*cntrs.pop(0))\n",
    "        return res\n"
   ]
  },
  {
   "cell_type": "code",
   "execution_count": 8,
   "metadata": {},
   "outputs": [
    {
     "data": {
      "text/plain": [
       "[0, 0, 0, 4, 5, 0, 0, 7, 0]"
      ]
     },
     "execution_count": 8,
     "metadata": {},
     "output_type": "execute_result"
    }
   ],
   "source": [
    "rle.decode(*rle.encode([0, 0, 0, 4, 5, 0, 0, 7, 0]))\n"
   ]
  },
  {
   "cell_type": "code",
   "execution_count": 9,
   "metadata": {},
   "outputs": [
    {
     "data": {
      "text/plain": [
       "[97, 36, 110, 1, 68, 0, 0, 1, 4, 1, 0, 0]"
      ]
     },
     "execution_count": 9,
     "metadata": {},
     "output_type": "execute_result"
    }
   ],
   "source": [
    "mtf.encode('a#nnBnnBaaaa')\n"
   ]
  },
  {
   "cell_type": "code",
   "execution_count": 10,
   "metadata": {},
   "outputs": [
    {
     "data": {
      "text/plain": [
       "'a#nnBnBnaaxaxxxxxxxa'"
      ]
     },
     "execution_count": 10,
     "metadata": {},
     "output_type": "execute_result"
    }
   ],
   "source": [
    "eng_example = 'BanBanaxxxxxxxxnana#'  # 'БанБананана#'\n",
    "mtf_encoded = mtf.encode(BWT.encode(eng_example))\n",
    "mtf.decode(mtf_encoded)\n"
   ]
  },
  {
   "cell_type": "code",
   "execution_count": 11,
   "metadata": {},
   "outputs": [
    {
     "data": {
      "text/plain": [
       "'  Table of Contents \\n \\n  About London: \\n \\n\\t Jack London (January 12, 1876 - November 22, 1916), was an American author who wrote The Call of the Wild and other books. A pioneer in the then-burgeoning world of commercial magazine fiction, he was one of the first Americans to make a huge financial success from writing. Source: Wikipedia \\n\\n  Also available on Feedbooks for \\t The Call of the Wild (1903)\\n \\t The Little Lady of the Big House (1916)\\n \\t White Fang (1906)\\n \\t The Road (1907)\\n \\t The Son of the Wolf (1900)\\n \\t Before Adam (1907)\\n \\t The Scarlet Plague (1912)\\n \\t The Game (1905)\\n \\t South Sea Tales (1911)\\n \\t The Iron Heel (1908)\\n \\n \\n  Copyright: \\n This work is available for countries where copyright is Life+70 and in the USA. \\n  Note: \\n This book is brought to you by Feedbooks\\n http://www.feedbooks.com\\n Strictly for personal use, do not use this file for commercial purposes.   Chapter 1 \\n\\n\\t_\\n \\n\\n\\n \\tI scarcely know where to begin, though I sometimes facetiously place the cause of it all to Charley Furuseth\\'s credit. He kept a summer cottage in Mill Valley, under the shadow of Mount Tamalpais, and never occupied it except when he loafed through the winter mouths and read Nietzsche and Schopenhauer to rest his brain. When summer came on, he elected to sweat out a hot and dusty existence in the city and to toil incessantly. Had it not been my custom to run up to see him every Saturday afternoon and to stop over till Monday morning, this particular January Monday morning would not have found me afloat on San Francisco Bay.\\n \\tNot but that I was afloat in a safe craft, for the Martinez was a new ferry-steamer, making her fourth or fifth trip on the run between Sausalito and San Francisco. The danger lay in the heavy fog which blanketed the bay, and of which, as a landsman, I had little apprehension. In fact, I remember the placid exaltation with which I took up my position on the forward upper deck, directly beneath the pilot-house, and allowed the mystery of the fog to lay hold of my imagination. A fresh breeze was blowing, and for a time I was alone in the moist obscurity-yet not alone, for I was dimly conscious of the presence of the pilot, and of what I took to be the captain, in the glass house above my head.\\n \\tI remember thinking how comfortable it was, this division of labour which made it unnecessary for me to study fogs, winds, tides, and navigation, in order to visit my friend who lived across an arm of the sea. It was good that men should be specialists, I mused. The peculiar knowledge of the pilot and captain sufficed for many thousands of people who knew no more of the sea and navigation than I knew. On the other hand, instead of having to devote my energy to the learning of a multitude of things, I concentrated it upon a few particular things, such as, for instance, the analysis of Poe\\'s place in American literature-an essay of mine, by the way, in the current Atlantic. Coming aboard, as I passed through the cabin, I had noticed with greedy eyes a stout gentleman reading the Atlantic, which was open at my very essay. And there it was again, the division of labour, the special knowledge of the pilot and captain which permitted the stout gentleman to read my special knowledge on Poe while they carried him safely from Sausalito to San Francisco.\\n \\tA red-faced man, slamming the cabin door behind him and stumping out on the deck, interrupted my reflections, though I made a mental note of the topic for use in a projected essay which I had thought of calling \"The Necessity for Freedom: A Plea for the Artist.\" The red-faced man shot a glance up at the pilot-house, gazed around at the fog, stumped across the deck and back (he evidently had artificial legs), and stood still by my side, legs wide apart, and with an expression of keen enjoyment on his face. I was not wrong when I decided that his days had been spent on the sea.\\n \\t\"It\\'s nasty weather like this here that turns heads grey before their time,\" he said, with a nod toward the pilot-house.\\n \\t\"I had not thought there was any particular strain,\" I answered. \"It seems as simple as A, B, C. They know the direction by compass, the distance, and the speed. I should not call it anything more than mathematical certainty.\"\\n \\t\"Strain!\" he snorted. \"Simple as A, B, C! Mathematical certainty!\"\\n \\tHe seemed to brace himself up and lean backward against the air as he stared at me. \"How about this here tide that\\'s rushin\\' out through the Golden Gate?\" he demanded, or bellowed, rather. \"How fast is she ebbin\\'? What\\'s the drift, eh? Listen to that, will you? A bell-buoy, and we\\'re a-top of it! See \\'em alterin\\' the course!\"\\n \\tFrom out of the fog came the mournful tolling of a bell, and I could see the pilot turning the wheel with great rapidity. The bell, which had seemed straight ahead, was now sounding from the side. Our own whistle was blowing hoarsely, and from time to time the sound of other whistles came to us from out of the fog.\\n \\t\"That\\'s a ferry-boat of some sort,\" the new-comer said, indicating a whistle off to the right. \"And there! D\\'ye hear that? Blown by mouth. Some scow schooner, most likely. Better watch out, Mr. Schooner-man. Ah, I thought so. Now hell\\'s a poppin\\' for somebody!\"\\n \\tThe unseen ferry-boat was blowing blast after blast, and the mouth- blown horn was tooting in terror-stricken fashion.\\n \\t\"And now they\\'re payin\\' their respects to each other and tryin\\' to get clear,\" the red-faced man went on, as the hurried whistling ceased.\\n \\tHis face was shining, his eyes flashing with excitement as he translated into articulate language the speech of the horns and sirens. \"That\\'s a steam-siren a-goin\\' it over there to the left. And you hear that fellow with a frog in his throat-a steam schooner as near as I can judge, crawlin\\' in from the Heads against the tide.\"\\n \\tA shrill little whistle, piping as if gone mad, came from directly ahead and from very near at hand. Gongs sounded on the Martinez. Our paddle-wheels stopped, their pulsing beat died away, and then they started again. The shrill little whistle, like the chirping of a cricket amid the cries of great beasts, shot through the fog from more to the side and swiftly grew faint and fainter. I looked to my companion for enlightenment.\\n \\t\"One of them dare-devil launches,\" he said. \"I almost wish we\\'d sunk him, the little rip! They\\'re the cause of more trouble. And what good are they? Any jackass gets aboard one and runs it from hell to breakfast, blowin\\' his whistle to beat the band and tellin\\' the rest of the world to look out for him, because he\\'s comin\\' and can\\'t look out for himself! Because he\\'s comin\\'! And you\\'ve got to look out, too! Right of way! Common decency! They don\\'t know the meanin\\' of it!\"\\n \\tI felt quite amused at his unwarranted choler, and while he stumped indignantly up and down I fell to dwelling upon the romance of the fog. And romantic it certainly was-the fog, like the grey shadow of infinite mystery, brooding over the whirling speck of earth; and men, mere motes of light and sparkle, cursed with an insane relish for work, riding their steeds of wood and steel through the heart of the mystery, groping their way blindly through the Unseen, and clamouring and clanging in confident speech the while their hearts are heavy with incertitude and fear.\\n \\tThe voice of my companion brought me back to myself with a laugh. I too had been groping and floundering, the while I thought I rode clear-eyed through the mystery.\\n \\t\"Hello! somebody comin\\' our way,\" he was saying. \"And d\\'ye hear that? He\\'s comin\\' fast. Walking right along. Guess he don\\'t hear us yet. Wind\\'s in wrong direction.\"\\n \\tThe fresh breeze was blowing right down upon us, and I could hear the whistle plainly, off to one side and a little ahead.\\n \\t\"Ferry-boat?\" I asked.\\n \\tHe nodded, then added, \"Or he wouldn\\'t be keepin\\' up such a clip.\" He gave a short chuckle. \"They\\'re gettin\\' anxious up there.\"\\n \\tI glanced up. The captain had thrust his head and shoulders out of the pilot-house, and was staring intently into the fog as though by sheer force of will he could penetrate it. His face was anxious, as was the face of my companion, who had stumped over to the rail and was gazing with a like intentness in the direction of the invisible danger.\\n \\tThen everything happened, and with inconceivable rapidity. The fog seemed to break away as though split by a wedge, and the bow of a steamboat emerged, trailing fog-wreaths on either side like seaweed on the snout of Leviathan. I could see the pilot-house and a white-bearded man leaning partly out of it, on his elbows. He was clad in a blue uniform, and I remember noting how trim and quiet he was. His quietness, under the circumstances, was terrible. He accepted Destiny, marched hand in hand with it, and coolly measured the stroke. As he leaned there, he ran a calm and speculative eye over us, as though to determine the precise point of the collision, and took no notice whatever when our pilot, white with rage, shouted, \"Now you\\'ve done it!\"\\n \\tOn looking back, I realize that the remark was too obvious to make rejoinder necessary.\\n \\t\"Grab hold of something and hang on,\" the red-faced man said to me. All his bluster had gone, and he seemed to have caught the contagion of preternatural calm. \"And listen to the women scream,\" he said grimly-almost bitterly, I thought, as though he had been through the experience before.\\n \\tThe vessels came together before I could follow his advice. We must have been struck squarely amidships, for I saw nothing, the strange steamboat having passed beyond my line of vision. The Martinez heeled over, sharply, and there was a crashing and rending of timber. I was thrown flat on the wet deck, and before I could scramble to my feet I heard the scream of the women. This it was, I am certain,-the most indescribable of blood-curdling sounds,- that threw me into a panic. I remembered the life-preservers stored in the cabin, but was met at the door and swept backward by a wild rush of#'"
      ]
     },
     "execution_count": 11,
     "metadata": {},
     "output_type": "execute_result"
    }
   ],
   "source": [
    "BWT.decode(mtf.decode(mtf.encode(BWT.encode(text[:10000]+SHARP))))\n"
   ]
  },
  {
   "cell_type": "code",
   "execution_count": 12,
   "metadata": {},
   "outputs": [
    {
     "data": {
      "text/plain": [
       "577875"
      ]
     },
     "execution_count": 12,
     "metadata": {},
     "output_type": "execute_result"
    }
   ],
   "source": [
    "len(text)\n"
   ]
  },
  {
   "cell_type": "code",
   "execution_count": 13,
   "metadata": {},
   "outputs": [
    {
     "data": {
      "text/plain": [
       "0.6981630975556997"
      ]
     },
     "execution_count": 13,
     "metadata": {},
     "output_type": "execute_result"
    }
   ],
   "source": [
    "part_text = text\n",
    "rle_compressed, cntrs = rle.encode(mtf.encode(BWT.encode(part_text+SHARP)))\n",
    "(len(rle_compressed) + len(cntrs))/len(part_text)\n"
   ]
  },
  {
   "attachments": {},
   "cell_type": "markdown",
   "metadata": {},
   "source": [
    "Пример с нулями на выходе mtf"
   ]
  },
  {
   "cell_type": "code",
   "execution_count": 14,
   "metadata": {},
   "outputs": [],
   "source": [
    "# mtf.encode(BWT.encode('BannanananananananananaBananana'+SHARP))\n"
   ]
  },
  {
   "cell_type": "code",
   "execution_count": 15,
   "metadata": {},
   "outputs": [],
   "source": [
    "import random\n",
    "import string\n",
    "\n",
    "\n",
    "def random_subtext(text, length):\n",
    "    i = random.randrange(0, len(text) - length - 2)\n",
    "    return text[i:i+length]\n",
    "\n",
    "\n",
    "def randomword(length):\n",
    "    letters = string.ascii_lowercase\n",
    "    return ''.join(random.choice(letters) for i in range(length))\n",
    "\n",
    "\n",
    "def test_bwt_encode_decode():\n",
    "    for i in range(1000):\n",
    "        w = random_subtext(text, 1000)+SHARP\n",
    "        # print(w)\n",
    "        assert BWT.decode(BWT.encode(w)) == w\n",
    "\n",
    "\n",
    "def test_mtf():\n",
    "    for i in range(1000):\n",
    "        w = random_subtext(text, 1000)+SHARP\n",
    "        # print(w)\n",
    "        assert mtf.decode(mtf.encode(w)) == w\n",
    "\n",
    "\n",
    "def test_rle():\n",
    "    for i in range(100):\n",
    "        w = random_subtext(text, 1000)+SHARP\n",
    "        ar = mtf.encode(BWT.encode(w))\n",
    "        # print(ar)\n",
    "        assert rle.decode(*rle.encode(ar)) == ar\n",
    "\n",
    "\n",
    "# test_bwt_encode_decode()\n",
    "# test_mtf()\n",
    "test_rle()\n",
    "ban = 'БанБананана#'\n",
    "# BWT.decode(BWT.encode(ban))\n",
    "# BWT.encode('БанБананана')\n"
   ]
  },
  {
   "cell_type": "code",
   "execution_count": 16,
   "metadata": {},
   "outputs": [],
   "source": [
    "from itertools import permutations\n",
    "\n",
    "\n",
    "def test_permutation():\n",
    "    a = list('abbced')\n",
    "    for perm in list(permutations(list(range(len(a)))))[:100]:\n",
    "        assert a == apply_permutation(\n",
    "            apply_permutation(a, perm), inverse_permutation(perm))\n",
    "\n",
    "\n",
    "test_permutation()\n"
   ]
  },
  {
   "cell_type": "code",
   "execution_count": 17,
   "metadata": {},
   "outputs": [
    {
     "name": "stdout",
     "output_type": "stream",
     "text": [
      " Char | Huffman code \n",
      "----------------------\n",
      " 'C'  |           0\n",
      " 'A'  |          11\n",
      " 'D'  |         101\n",
      " 'B'  |         100\n"
     ]
    }
   ],
   "source": [
    "# Huffman Coding in python\n",
    "\n",
    "string = 'BCAADDDCCACACAC'\n",
    "\n",
    "\n",
    "# Creating tree nodes\n",
    "class NodeTree(object):\n",
    "\n",
    "    def __init__(self, left=None, right=None):\n",
    "        self.left = left\n",
    "        self.right = right\n",
    "\n",
    "    def children(self):\n",
    "        return (self.left, self.right)\n",
    "\n",
    "    def nodes(self):\n",
    "        return (self.left, self.right)\n",
    "\n",
    "    def __str__(self):\n",
    "        return '%s_%s' % (self.left, self.right)\n",
    "\n",
    "\n",
    "# Main function implementing huffman coding\n",
    "def huffman_code_tree(node, left=True, binString=''):\n",
    "    if type(node) is str:\n",
    "        return {node: binString}\n",
    "    (l, r) = node.children()\n",
    "    d = dict()\n",
    "    d.update(huffman_code_tree(l, True, binString + '0'))\n",
    "    d.update(huffman_code_tree(r, False, binString + '1'))\n",
    "    return d\n",
    "\n",
    "\n",
    "# Calculating frequency\n",
    "freq = {}\n",
    "for c in string:\n",
    "    if c in freq:\n",
    "        freq[c] += 1\n",
    "    else:\n",
    "        freq[c] = 1\n",
    "\n",
    "freq = sorted(freq.items(), key=lambda x: x[1], reverse=True)\n",
    "\n",
    "nodes = freq\n",
    "\n",
    "while len(nodes) > 1:\n",
    "    (key1, c1) = nodes[-1]\n",
    "    (key2, c2) = nodes[-2]\n",
    "    nodes = nodes[:-2]\n",
    "    node = NodeTree(key1, key2)\n",
    "    nodes.append((node, c1 + c2))\n",
    "\n",
    "    nodes = sorted(nodes, key=lambda x: x[1], reverse=True)\n",
    "\n",
    "huffmanCode = huffman_code_tree(nodes[0][0])\n",
    "\n",
    "print(' Char | Huffman code ')\n",
    "print('----------------------')\n",
    "for (char, frequency) in freq:\n",
    "    print(' %-4r |%12s' % (char, huffmanCode[char]))\n"
   ]
  },
  {
   "cell_type": "code",
   "execution_count": 18,
   "metadata": {},
   "outputs": [
    {
     "data": {
      "text/plain": [
       "{'C': '0', 'B': '100', 'D': '101', 'A': '11'}"
      ]
     },
     "execution_count": 18,
     "metadata": {},
     "output_type": "execute_result"
    }
   ],
   "source": [
    "huffmanCode\n"
   ]
  },
  {
   "cell_type": "code",
   "execution_count": 19,
   "metadata": {},
   "outputs": [
    {
     "name": "stdout",
     "output_type": "stream",
     "text": [
      "content = b'\\x0c\\x0c\\x0c\\x0e\\x0f\\x10'\n",
      "len code = bitarray('1010000110011000001110000000111100000010000')\n"
     ]
    },
    {
     "data": {
      "text/plain": [
       "[12, 12, 12, 14, 15, 16]"
      ]
     },
     "execution_count": 19,
     "metadata": {},
     "output_type": "execute_result"
    }
   ],
   "source": [
    "from adaptive import AdaptiveHuffman\n",
    "# content = bytes('xx', 'utf-8')\n",
    "content = bytes([12, 12, 12, 14, 15, 16])\n",
    "print(f'content = {content}')\n",
    "ada_huff = AdaptiveHuffman(content)\n",
    "code = ada_huff.encode()\n",
    "print(f\"len code = {code}\")\n",
    "add_huff_decoder = AdaptiveHuffman(code)\n",
    "add_huff_decoder.decode()\n"
   ]
  },
  {
   "cell_type": "code",
   "execution_count": 20,
   "metadata": {},
   "outputs": [],
   "source": [
    "class Huffman:\n",
    "    def encode(l: list):\n",
    "        ada_huff = AdaptiveHuffman(bytes(l))\n",
    "        return ada_huff.encode()\n",
    "\n",
    "    def decode(code: bitarray):\n",
    "        add_huff_decoder = AdaptiveHuffman(code)\n",
    "        return add_huff_decoder.decode()\n",
    "    \n",
    "\n",
    "def test_huffman():\n",
    "    for i in range(10):\n",
    "        l = [random.randint(3,9) for _ in range(10)]\n",
    "        assert l == Huffman.decode(Huffman.encode(l))\n",
    "\n",
    "test_huffman()"
   ]
  },
  {
   "attachments": {},
   "cell_type": "markdown",
   "metadata": {},
   "source": [
    "Archiver"
   ]
  },
  {
   "cell_type": "code",
   "execution_count": 183,
   "metadata": {},
   "outputs": [],
   "source": [
    "def gamma_code(number_bits):\n",
    "    number = int(''.join(map(str, number_bits)), 2)\n",
    "    # number += 1  # кодируем число на 1 больше чтобы могли подавать нули\n",
    "    i = math.floor(math.log(number, 2))\n",
    "    return bitarray([0]*i + [int(c) for c in \"{0:b}\".format(number)[-(i+1):]])\n",
    "\n",
    "\n",
    "def delta_code(number_bits):\n",
    "    number = int(''.join(map(str, number_bits)), 2)\n",
    "    i = math.floor(math.log(number, 2))\n",
    "    try:\n",
    "        diap = gamma_code(\"{0:b}\".format(i+1))\n",
    "    except:\n",
    "        raise ValueError(i)\n",
    "    return diap+bitarray([int(c) for c in \"{0:b}\".format(number)[-(i+1):]])\n",
    "\n",
    "\n",
    "def list_int_to(l, func_code):\n",
    "    res = bitarray()\n",
    "    for c in l:\n",
    "        res.extend(func_code(\"{0:b}\".format(c)))\n",
    "    return res"
   ]
  },
  {
   "cell_type": "code",
   "execution_count": 190,
   "metadata": {},
   "outputs": [],
   "source": [
    "\n",
    "\n",
    "def gamma_to_list_int(ar: bitarray):\n",
    "    j = 0\n",
    "    res = []\n",
    "    zeros_cnt = 0\n",
    "    while j < len(ar):\n",
    "        if ar[j] == 0:\n",
    "            zeros_cnt += 1\n",
    "            j += 1\n",
    "            continue\n",
    "        number_bits = ar[j:j+zeros_cnt+1]\n",
    "        number = int(number_bits.to01(), 2)\n",
    "        res.append(number)\n",
    "        j = j + zeros_cnt+1\n",
    "        zeros_cnt = 0\n",
    "    return res\n",
    "\n",
    "\n",
    "def list_int_to_gamma(l):\n",
    "    res = bitarray()\n",
    "    for c in l:\n",
    "        gamma_coded = gamma_code(\"{0:b}\".format(c))\n",
    "        res.extend(gamma_coded)\n",
    "    return res\n",
    "\n",
    "\n",
    "def overflow_code(x, scheme):\n",
    "    \"\"\"scheme == [4, 8, 8] ~ 4 + 8 + 8\"\"\"\n",
    "    exp = scheme[0]\n",
    "    upper_bound = 2**exp - 2\n",
    "    if 0 <= x <= upper_bound:\n",
    "        return \"{0:b}\".format(x).rjust(exp, '0')\n",
    "    ones_cnt = exp  # кол-во единиц перед началом числа\n",
    "    for exp in scheme[1:]:\n",
    "        prev_upper_bound = upper_bound\n",
    "        upper_bound = upper_bound + 2**exp - 1\n",
    "        if x <= upper_bound:\n",
    "            return '1'*ones_cnt + \"{0:b}\".format(x-(prev_upper_bound+1)).rjust(exp, '0')\n",
    "        ones_cnt += exp\n",
    "    raise ValueError(f\"Scheme {scheme} is not enough to code {x}\")\n",
    "\n",
    "\n",
    "def overflow_array(l):\n",
    "    res = bitarray()\n",
    "    for x in l:\n",
    "        res.extend(overflow_code(x, [2, 4, 16]))\n",
    "    return res\n",
    "\n",
    "\n",
    "def get_header(x):\n",
    "    return bitarray(\"{0:b}\".format(x).rjust(20, '0'))\n",
    "\n",
    "\n",
    "# gamma_code('1111111010')\n",
    "# len(list_int_to_gamma(cntrs)), len(cntrs)\n",
    "# # get_header(16_000)\n",
    "# overflow_code(2200, [2,4,16])\n",
    "# overflow_array([2,4])\n",
    "\n",
    "def test_gamma():\n",
    "    for i in range(10):\n",
    "        l = [random.randint(3, 9) for _ in range(100)]\n",
    "        assert l == gamma_to_list_int(list_int_to_gamma(l))\n",
    "\n",
    "test_gamma()\n"
   ]
  },
  {
   "cell_type": "code",
   "execution_count": 156,
   "metadata": {},
   "outputs": [
    {
     "data": {
      "text/plain": [
       "72229"
      ]
     },
     "execution_count": 156,
     "metadata": {},
     "output_type": "execute_result"
    }
   ],
   "source": [
    "len(global_cntrs)"
   ]
  },
  {
   "cell_type": "code",
   "execution_count": 157,
   "metadata": {},
   "outputs": [
    {
     "data": {
      "text/plain": [
       "(146000, 73000)"
      ]
     },
     "execution_count": 157,
     "metadata": {},
     "output_type": "execute_result"
    }
   ],
   "source": [
    "tiny_cntrs = [1]*73000\n",
    "len(list_int_to(tiny_cntrs, delta_code)), len(list_int_to(tiny_cntrs, gamma_code))"
   ]
  },
  {
   "cell_type": "code",
   "execution_count": 158,
   "metadata": {},
   "outputs": [],
   "source": [
    "# rle_compressed, cntrs = rle.encode(mtf.encode(BWT.encode(part_text+SHARP)))\n",
    "from functools import partial\n",
    "global_cntrs = None\n",
    "class Archiver:\n",
    "    def encode(text):\n",
    "        if '$' in text:\n",
    "            raise ValueError('Text should not contain $')\n",
    "        if '#' in text:\n",
    "            raise ValueError('Text should not contain #')\n",
    "        t = text + SHARP\n",
    "        rle_compressed, cntrs = rle.encode(mtf.encode(BWT.encode(t)))\n",
    "        huffman_compressed = Huffman.encode(rle_compressed)\n",
    "        header = get_header(len(huffman_compressed))\n",
    "        # cntrs_compressed = list_int_to_gamma(cntrs)\n",
    "        global global_cntrs\n",
    "        global_cntrs = cntrs\n",
    "        # cntrs_compressed = list_int_to(cntrs, delta_code)\n",
    "        cntrs_compressed = overflow_array(cntrs)\n",
    "        # fig = px.histogram(cntrs)\n",
    "        # fig.show()\n",
    "        return header+huffman_compressed+cntrs_compressed\n",
    "        # return mtf.encode(BWT.encode(t))\n",
    "\n",
    "    def decode(huffman_encoded: list, cntrs):\n",
    "        rle_compressed = Huffman.decode(huffman_encoded)\n",
    "        mtf_encoded = rle.decode(rle_compressed, cntrs)\n",
    "        return BWT.decode(mtf.decode(mtf_encoded))[:-1]\n"
   ]
  },
  {
   "cell_type": "code",
   "execution_count": 159,
   "metadata": {},
   "outputs": [
    {
     "data": {
      "text/plain": [
       "0.31092212848799483"
      ]
     },
     "execution_count": 159,
     "metadata": {},
     "output_type": "execute_result"
    }
   ],
   "source": [
    "tiny_text = text#[:1_000]#'ababcabca'\n",
    "bitar = Archiver.encode(tiny_text)\n",
    "# decompressed = Archiver.decode(*)\n",
    "# cntrs\n",
    "(len(bitar)/8)/len(tiny_text)\n"
   ]
  },
  {
   "cell_type": "code",
   "execution_count": 117,
   "metadata": {},
   "outputs": [
    {
     "data": {
      "text/plain": [
       "16.635532333438686"
      ]
     },
     "execution_count": 117,
     "metadata": {},
     "output_type": "execute_result"
    }
   ],
   "source": [
    "np.log(2*8*(1024)**2)"
   ]
  },
  {
   "cell_type": "code",
   "execution_count": 66,
   "metadata": {},
   "outputs": [
    {
     "data": {
      "text/plain": [
       "24"
      ]
     },
     "execution_count": 66,
     "metadata": {},
     "output_type": "execute_result"
    }
   ],
   "source": [
    "import re\n",
    "max([len(x) for x in re.findall(r'0+', str(bitar))])"
   ]
  },
  {
   "cell_type": "code",
   "execution_count": 61,
   "metadata": {},
   "outputs": [],
   "source": [
    "# re.findall(r'(01){2}', str(bitar))"
   ]
  },
  {
   "cell_type": "code",
   "execution_count": 133,
   "metadata": {},
   "outputs": [],
   "source": [
    "# fig = px.histogram(cntrs)\n",
    "# fig.show()\n",
    "# # pd.Series(cntrs).hist()"
   ]
  },
  {
   "cell_type": "code",
   "execution_count": 134,
   "metadata": {},
   "outputs": [
    {
     "data": {
      "text/plain": [
       "4.0"
      ]
     },
     "execution_count": 134,
     "metadata": {},
     "output_type": "execute_result"
    }
   ],
   "source": [
    "pd.Series(global_cntrs).quantile(0.8)"
   ]
  },
  {
   "cell_type": "code",
   "execution_count": 163,
   "metadata": {},
   "outputs": [
    {
     "data": {
      "text/plain": [
       "2157"
      ]
     },
     "execution_count": 163,
     "metadata": {},
     "output_type": "execute_result"
    }
   ],
   "source": [
    "max(global_cntrs)"
   ]
  },
  {
   "cell_type": "code",
   "execution_count": null,
   "metadata": {},
   "outputs": [],
   "source": []
  }
 ],
 "metadata": {
  "kernelspec": {
   "display_name": "Python 3",
   "language": "python",
   "name": "python3"
  },
  "language_info": {
   "codemirror_mode": {
    "name": "ipython",
    "version": 3
   },
   "file_extension": ".py",
   "mimetype": "text/x-python",
   "name": "python",
   "nbconvert_exporter": "python",
   "pygments_lexer": "ipython3",
   "version": "3.10.6"
  },
  "orig_nbformat": 4
 },
 "nbformat": 4,
 "nbformat_minor": 2
}
