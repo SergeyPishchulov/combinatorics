{
 "cells": [
  {
   "cell_type": "code",
   "execution_count": 1,
   "metadata": {
    "tags": []
   },
   "outputs": [
    {
     "data": {
      "text/plain": [
       "{'\\t',\n",
       " '\\n',\n",
       " '\\x0b',\n",
       " '\\x0c',\n",
       " '\\r',\n",
       " ' ',\n",
       " '!',\n",
       " '\"',\n",
       " '#',\n",
       " '$',\n",
       " '%',\n",
       " '&',\n",
       " \"'\",\n",
       " '(',\n",
       " ')',\n",
       " '*',\n",
       " '+',\n",
       " ',',\n",
       " '-',\n",
       " '.',\n",
       " '/',\n",
       " '0',\n",
       " '1',\n",
       " '2',\n",
       " '3',\n",
       " '4',\n",
       " '5',\n",
       " '6',\n",
       " '7',\n",
       " '8',\n",
       " '9',\n",
       " ':',\n",
       " ';',\n",
       " '<',\n",
       " '=',\n",
       " '>',\n",
       " '?',\n",
       " '@',\n",
       " 'A',\n",
       " 'B',\n",
       " 'C',\n",
       " 'D',\n",
       " 'E',\n",
       " 'F',\n",
       " 'G',\n",
       " 'H',\n",
       " 'I',\n",
       " 'J',\n",
       " 'K',\n",
       " 'L',\n",
       " 'M',\n",
       " 'N',\n",
       " 'O',\n",
       " 'P',\n",
       " 'Q',\n",
       " 'R',\n",
       " 'S',\n",
       " 'T',\n",
       " 'U',\n",
       " 'V',\n",
       " 'W',\n",
       " 'X',\n",
       " 'Y',\n",
       " 'Z',\n",
       " '[',\n",
       " '\\\\',\n",
       " ']',\n",
       " '^',\n",
       " '_',\n",
       " '`',\n",
       " 'a',\n",
       " 'b',\n",
       " 'c',\n",
       " 'd',\n",
       " 'e',\n",
       " 'f',\n",
       " 'g',\n",
       " 'h',\n",
       " 'i',\n",
       " 'j',\n",
       " 'k',\n",
       " 'l',\n",
       " 'm',\n",
       " 'n',\n",
       " 'o',\n",
       " 'p',\n",
       " 'q',\n",
       " 'r',\n",
       " 's',\n",
       " 't',\n",
       " 'u',\n",
       " 'v',\n",
       " 'w',\n",
       " 'x',\n",
       " 'y',\n",
       " 'z',\n",
       " '{',\n",
       " '|',\n",
       " '}',\n",
       " '~'}"
      ]
     },
     "execution_count": 1,
     "metadata": {},
     "output_type": "execute_result"
    }
   ],
   "source": [
    "import numpy as np\n",
    "import plotly.express as px\n",
    "import pandas as pd\n",
    "import math\n",
    "import string\n",
    "from collections import Counter\n",
    "import sys\n",
    "\n",
    "printable = set(string.printable)\n",
    "printable\n"
   ]
  },
  {
   "cell_type": "code",
   "execution_count": 2,
   "metadata": {
    "tags": []
   },
   "outputs": [],
   "source": [
    "# with open('Jack_London_-_The_Sea_Wolf.txt') as inp:\n",
    "#     with open('Jack_London_-_The_Sea_Wolf_ascii.txt', 'a') as outp:\n",
    "#         for line in inp:\n",
    "#             outp.write(filter(lambda x: x in printable, line) + '\\n')\n"
   ]
  },
  {
   "cell_type": "code",
   "execution_count": 3,
   "metadata": {
    "tags": []
   },
   "outputs": [],
   "source": [
    "with open('Jack_London_-_The_Sea_Wolf_ascii.txt', 'r') as file:\n",
    "    text = file.read()\n"
   ]
  },
  {
   "cell_type": "code",
   "execution_count": 4,
   "metadata": {
    "tags": []
   },
   "outputs": [
    {
     "data": {
      "text/plain": [
       "577875"
      ]
     },
     "execution_count": 4,
     "metadata": {},
     "output_type": "execute_result"
    }
   ],
   "source": [
    "len(text)\n"
   ]
  },
  {
   "attachments": {},
   "cell_type": "markdown",
   "metadata": {},
   "source": [
    "Правила:\n",
    "    1. Заглавная после точки и пробела\n",
    "    "
   ]
  },
  {
   "cell_type": "code",
   "execution_count": 5,
   "metadata": {
    "tags": []
   },
   "outputs": [
    {
     "data": {
      "text/plain": [
       "12142"
      ]
     },
     "execution_count": 5,
     "metadata": {},
     "output_type": "execute_result"
    }
   ],
   "source": [
    "sum(c.isupper() for c in text)\n"
   ]
  },
  {
   "attachments": {},
   "cell_type": "markdown",
   "metadata": {},
   "source": [
    "По правилу - заглавная, в действительности - маленькая"
   ]
  },
  {
   "cell_type": "code",
   "execution_count": 6,
   "metadata": {
    "tags": []
   },
   "outputs": [],
   "source": [
    "import re\n",
    "low_char_aft_dot = []\n",
    "p = re.compile(\"\\. [a-z]\")\n",
    "for m in p.finditer(text):\n",
    "    low_char_aft_dot.append(m.start()+2)\n",
    "    # print(m.start()+2, m.group())\n"
   ]
  },
  {
   "cell_type": "code",
   "execution_count": 7,
   "metadata": {
    "tags": []
   },
   "outputs": [
    {
     "data": {
      "text/plain": [
       "[210266, 371455]"
      ]
     },
     "execution_count": 7,
     "metadata": {},
     "output_type": "execute_result"
    }
   ],
   "source": [
    "low_char_aft_dot\n"
   ]
  },
  {
   "attachments": {},
   "cell_type": "markdown",
   "metadata": {
    "tags": []
   },
   "source": [
    "По правилу - маленькая, в действительности - заглавная \n",
    "\n",
    "r'(\\. [a-z])|( \"[a-z])|(\\t[a-z])'"
   ]
  },
  {
   "cell_type": "code",
   "execution_count": 8,
   "metadata": {},
   "outputs": [],
   "source": [
    "class TextPreprocessor:\n",
    "    def decap(self, text):\n",
    "        upper_inst_lower = []\n",
    "        lower_inst_upper = []\n",
    "        for m in re.compile(r'((?!\\. )[A-Z])|'\n",
    "                            # + r'((?!\\! )[A-Z])|'\n",
    "                            + r'((?!\\t)[A-Z])').finditer(text):\n",
    "            upper_inst_lower.append(m.start())  # TODO ? !\n",
    "        for m in re.compile(\n",
    "            r'(\\. [a-z])|' +\n",
    "            # r'(\\! [a-z])|' +\n",
    "            r'(\\t[a-z])'\n",
    "        ).finditer(text):\n",
    "            lower_inst_upper.append(m.end()-1)\n",
    "        exceptions = lower_inst_upper + upper_inst_lower\n",
    "        exceptions_bitmap = [0]*len(text)\n",
    "        for e in exceptions[:40]:\n",
    "            # print(text[e-2:e+2])\n",
    "            pass\n",
    "        for e in exceptions:\n",
    "            exceptions_bitmap[e] = 1\n",
    "        decap = text.lower()\n",
    "        return decap, exceptions_bitmap\n",
    "    # TODO gamma code(bitmap) & decode\n"
   ]
  },
  {
   "cell_type": "code",
   "execution_count": 9,
   "metadata": {
    "tags": []
   },
   "outputs": [
    {
     "data": {
      "text/plain": [
       "0.021466032442980853"
      ]
     },
     "execution_count": 9,
     "metadata": {},
     "output_type": "execute_result"
    }
   ],
   "source": [
    "from collections import Counter, defaultdict\n",
    "\n",
    "decap, exceptions_bitmap = TextPreprocessor().decap(text)\n",
    "cntr = Counter(exceptions_bitmap)\n",
    "cntr[1]/cntr[0]\n"
   ]
  },
  {
   "attachments": {},
   "cell_type": "markdown",
   "metadata": {},
   "source": [
    "### bitmap as array of numbers"
   ]
  },
  {
   "cell_type": "code",
   "execution_count": 10,
   "metadata": {},
   "outputs": [],
   "source": [
    "DIGITS_IN_NUBER = 8\n"
   ]
  },
  {
   "cell_type": "code",
   "execution_count": 11,
   "metadata": {},
   "outputs": [],
   "source": [
    "\"\"\"Add extra zeros to the end of bitmap array so it will have length divisable by DIGITS_IN_NUBER\"\"\"\n",
    "extra_zeros = (DIGITS_IN_NUBER - (len(exceptions_bitmap) %\n",
    "               DIGITS_IN_NUBER)) % DIGITS_IN_NUBER\n",
    "bitmap = exceptions_bitmap + [0]*extra_zeros\n"
   ]
  },
  {
   "cell_type": "code",
   "execution_count": 12,
   "metadata": {},
   "outputs": [],
   "source": [
    "def gamma_code(number_bits):\n",
    "    number = int(''.join(map(str, number_bits)), 2)\n",
    "    number += 1  # кодируем число на 1 больше чтобы могли подавать нули\n",
    "    i = math.floor(math.log(number, 2))\n",
    "    return [0]*i + [int(c) for c in \"{0:b}\".format(number)[-(i+1):]]\n",
    "\n",
    "\n",
    "def gamma_code_array(bits, DIGITS_IN_NUBER):\n",
    "    res = []\n",
    "    for iteration in range(len(bits)//DIGITS_IN_NUBER):\n",
    "        number_bits = bits[iteration *\n",
    "                           DIGITS_IN_NUBER:(iteration+1)*DIGITS_IN_NUBER]\n",
    "        res.extend(gamma_code(number_bits))\n",
    "    return res\n"
   ]
  },
  {
   "attachments": {},
   "cell_type": "markdown",
   "metadata": {},
   "source": [
    "Best DIGITS_IN_NUBER"
   ]
  },
  {
   "cell_type": "code",
   "execution_count": 13,
   "metadata": {},
   "outputs": [
    {
     "data": {
      "text/plain": [
       "[(157007, 7),\n",
       " (158672, 8),\n",
       " (160494, 6),\n",
       " (162036, 9),\n",
       " (166105, 10),\n",
       " (168731, 5),\n",
       " (186648, 4),\n",
       " (207147, 16),\n",
       " (313225, 2),\n",
       " (336944, 32),\n",
       " (544465, 64),\n",
       " (779832, 128),\n",
       " (956033, 256),\n",
       " (1056738, 512)]"
      ]
     },
     "execution_count": 13,
     "metadata": {},
     "output_type": "execute_result"
    }
   ],
   "source": [
    "sorted([(len(gamma_code_array(exceptions_bitmap, din)), din)\n",
    "  for din in [2, 4, 5,6,7, 8,9, 10, 16, 32, 64, 128, 256, 512]])"
   ]
  },
  {
   "cell_type": "code",
   "execution_count": 14,
   "metadata": {},
   "outputs": [
    {
     "data": {
      "text/plain": [
       "19.3692626953125"
      ]
     },
     "execution_count": 14,
     "metadata": {},
     "output_type": "execute_result"
    }
   ],
   "source": [
    "# len(bitmap) / \n",
    "len(gamma_code_array(bitmap, DIGITS_IN_NUBER=8))/(8*1024)\n"
   ]
  },
  {
   "cell_type": "code",
   "execution_count": 15,
   "metadata": {
    "tags": []
   },
   "outputs": [],
   "source": [
    "# cntr_by_context = \n",
    "# char_cnt_by_context = {k: len(v) for k, v in cntr_by_context.items()}\n",
    "# char_cnt_by_context\n"
   ]
  },
  {
   "attachments": {},
   "cell_type": "markdown",
   "metadata": {},
   "source": [
    "### Необходимый объем памяти для хранения всех моделей\n",
    "\n",
    "Кодируем 21 бит - контекст длины 3. Далее идет неопределенное количество пар символ-счетчик.\n",
    "Символ кодируем 7 битами. Счетчик по посхеме с переполнением. Когда пары закончились, нужно просигнализировать о том, что дальше пойдет следующая контекстная модель, а не очередной символ в текущей модели. Запишем 7 нулей.\n",
    "\n",
    "Кодирование с переполнением по схеме 4+8+8+.... Самое большое значение, которое нужно закодировать - 15658. - Счетчик для \"e\" в контексте \" th\""
   ]
  },
  {
   "attachments": {},
   "cell_type": "markdown",
   "metadata": {},
   "source": [
    "Всевозможные символы"
   ]
  },
  {
   "cell_type": "code",
   "execution_count": 16,
   "metadata": {},
   "outputs": [],
   "source": [
    "# sorted(list(set(ord(x) for x in decap)))\n"
   ]
  },
  {
   "cell_type": "code",
   "execution_count": 17,
   "metadata": {},
   "outputs": [],
   "source": [
    "# SCH = [8, 16, 16]\n",
    "\n"
   ]
  },
  {
   "cell_type": "code",
   "execution_count": 18,
   "metadata": {},
   "outputs": [],
   "source": [
    "# Counter(overflow_code(65790, [8, 16, 16]))\n"
   ]
  },
  {
   "cell_type": "code",
   "execution_count": 19,
   "metadata": {},
   "outputs": [
    {
     "data": {
      "text/plain": [
       "(97, 'a')"
      ]
     },
     "execution_count": 19,
     "metadata": {},
     "output_type": "execute_result"
    }
   ],
   "source": [
    "ord('a'),chr(97)\n",
    "# basic latin - 32...127\n"
   ]
  },
  {
   "attachments": {},
   "cell_type": "markdown",
   "metadata": {},
   "source": [
    "Буквы английского алфавита, стандартные знаки препинания, переводы строк и табы помещаются в первые 128 символов юникода\n",
    "\n",
    "Хватит 7 бит для того, чтобы закодировать символ."
   ]
  },
  {
   "cell_type": "code",
   "execution_count": 20,
   "metadata": {},
   "outputs": [
    {
     "data": {
      "text/plain": [
       "7189"
      ]
     },
     "execution_count": 20,
     "metadata": {},
     "output_type": "execute_result"
    }
   ],
   "source": [
    "len(re.findall(' the', text))\n"
   ]
  },
  {
   "cell_type": "code",
   "execution_count": null,
   "metadata": {},
   "outputs": [],
   "source": []
  },
  {
   "cell_type": "code",
   "execution_count": 21,
   "metadata": {},
   "outputs": [
    {
     "ename": "NameError",
     "evalue": "name 'cnt_values' is not defined",
     "output_type": "error",
     "traceback": [
      "\u001b[0;31m---------------------------------------------------------------------------\u001b[0m",
      "\u001b[0;31mNameError\u001b[0m                                 Traceback (most recent call last)",
      "Cell \u001b[0;32mIn[21], line 1\u001b[0m\n\u001b[0;32m----> 1\u001b[0m np\u001b[39m.\u001b[39mquantile(cnt_values, q\u001b[39m=\u001b[39m\u001b[39m0.75\u001b[39m)\n",
      "\u001b[0;31mNameError\u001b[0m: name 'cnt_values' is not defined"
     ]
    }
   ],
   "source": [
    "np.quantile(cnt_values, q=0.75)\n"
   ]
  },
  {
   "cell_type": "code",
   "execution_count": null,
   "metadata": {},
   "outputs": [],
   "source": []
  },
  {
   "cell_type": "code",
   "execution_count": 21,
   "metadata": {},
   "outputs": [
    {
     "data": {
      "text/plain": [
       "77"
      ]
     },
     "execution_count": 21,
     "metadata": {},
     "output_type": "execute_result"
    }
   ],
   "source": [
    "len(sorted([(ord(x),x) for x in set(text)]))\n"
   ]
  },
  {
   "cell_type": "code",
   "execution_count": 22,
   "metadata": {},
   "outputs": [],
   "source": [
    "# SCH = [8, 16, 16]\n",
    "\n",
    "def get_context_models(decap) -> defaultdict:\n",
    "    cntr_by_context = {}\n",
    "    for c_beg in range(len(decap)-3):\n",
    "        context = decap[c_beg:c_beg+3]\n",
    "        folowing = decap[c_beg+3]\n",
    "        if context not in cntr_by_context:\n",
    "            cntr_by_context[context] = defaultdict(int)\n",
    "        cntr_by_context[context][folowing] += 1\n",
    "    return cntr_by_context\n",
    "\n",
    "\n",
    "def overflow_code(x, scheme):\n",
    "    \"\"\"scheme == [4, 8, 8] ~ 4 + 8 + 8\"\"\"\n",
    "    exp = scheme[0]\n",
    "    upper_bound = 2**exp - 2\n",
    "    if 0 <= x <= upper_bound:\n",
    "        return \"{0:b}\".format(x).rjust(exp, '0')\n",
    "    ones_cnt = exp  # кол-во единиц перед началом числа\n",
    "    for exp in scheme[1:]:\n",
    "        prev_upper_bound = upper_bound\n",
    "        upper_bound = upper_bound + 2**exp - 1\n",
    "        if x <= upper_bound:\n",
    "            return '1'*ones_cnt + \"{0:b}\".format(x-(prev_upper_bound+1)).rjust(exp, '0')\n",
    "        ones_cnt += exp\n",
    "    raise ValueError(f\"Scheme {scheme} is not enough to code {x}\")\n",
    "\n",
    "\n",
    "def overflow_decode(s, scheme):\n",
    "    cum_sum_ones_read = 0  # сколько суммарно читается единиц\n",
    "    lower_bound = 0  # сколько надо вычитать\n",
    "    for exp_ind in range(len(scheme)):\n",
    "        potentially_read = cum_sum_ones_read + scheme[exp_ind]\n",
    "        if s.startswith('1'*potentially_read):\n",
    "            cum_sum_ones_read = potentially_read\n",
    "            lower_bound += 2**scheme[exp_ind] - 1\n",
    "        else:\n",
    "            return (int(s[cum_sum_ones_read:cum_sum_ones_read+scheme[exp_ind]], 2)\n",
    "                    + lower_bound)\n",
    "\n",
    "\n",
    "def test_overglow(SCH = [4, 8, 16]):\n",
    "    for i in range(16000):\n",
    "        encoded = overflow_code(i, SCH)\n",
    "        decoded = overflow_decode(encoded, SCH)\n",
    "        assert i == decoded\n",
    "\n",
    "\n",
    "def code_string(s):\n",
    "    return ''.join([\"{0:b}\".format(ord(c)).rjust(7, '0') for c in s])\n",
    "\n",
    "\n",
    "def encode_context_models(cntr_by_context, sch):\n",
    "    result = ''\n",
    "    for context, cntr in cntr_by_context.items():\n",
    "        model_encoded = ''\n",
    "        model_encoded += code_string(context)\n",
    "        for c, cnt in cntr.items():\n",
    "            model_encoded += code_string(c)\n",
    "            model_encoded += overflow_code(cnt, sch)\n",
    "            # model_encoded += '0'*7\n",
    "        result += model_encoded\n",
    "    return result\n",
    "\n",
    "# SCH = [8, 16,16]\n",
    "# cntr_by_context = get_context_models(d)\n",
    "\n"
   ]
  },
  {
   "cell_type": "code",
   "execution_count": null,
   "metadata": {},
   "outputs": [],
   "source": []
  },
  {
   "cell_type": "code",
   "execution_count": 23,
   "metadata": {},
   "outputs": [],
   "source": [
    "def get_all_counters(cntr_by_context):\n",
    "    cnt_values = []\n",
    "    for context, cntr in cntr_by_context.items():\n",
    "        for c in cntr:\n",
    "            cnt_values.append(cntr[c])\n",
    "            if cntr[c] == 15658:\n",
    "                print(f\"CONTEXT={context} {c}\")\n",
    "    return cnt_values\n",
    "\n",
    "cntr_by_context = get_context_models(decap)\n",
    "cnt_values = get_all_counters(cntr_by_context)\n",
    "# fig = px.histogram(cnt_values)\n",
    "# fig.show()\n",
    "# как часто встречаются значения-счетчики символов. 75% значений счетчиков не превосходит 26\n",
    "# значит будет выгодно кодировать сетчики по схеме с переполнением\n"
   ]
  },
  {
   "cell_type": "code",
   "execution_count": 24,
   "metadata": {},
   "outputs": [
    {
     "name": "stdout",
     "output_type": "stream",
     "text": [
      "0.28133392333984375 mB\n"
     ]
    }
   ],
   "source": [
    "models = get_context_models(decap)\n",
    "print(f\"{sys.getsizeof(models)/(1024**2)} mB\")"
   ]
  },
  {
   "cell_type": "code",
   "execution_count": 25,
   "metadata": {},
   "outputs": [
    {
     "data": {
      "text/plain": [
       "12"
      ]
     },
     "execution_count": 25,
     "metadata": {},
     "output_type": "execute_result"
    }
   ],
   "source": [
    "len(models[' ta'])"
   ]
  },
  {
   "cell_type": "code",
   "execution_count": 31,
   "metadata": {},
   "outputs": [
    {
     "data": {
      "text/plain": [
       "28238"
      ]
     },
     "execution_count": 31,
     "metadata": {},
     "output_type": "execute_result"
    }
   ],
   "source": [
    "bytes_for_lists_of_met_symbols = sum([len(set(cntr.keys())) for cntxt, cntr in models.items()])\n",
    "bytes_for_lists_of_met_symbols\n",
    "\n",
    "\n"
   ]
  },
  {
   "cell_type": "code",
   "execution_count": 33,
   "metadata": {},
   "outputs": [
    {
     "data": {
      "text/plain": [
       "112952"
      ]
     },
     "execution_count": 33,
     "metadata": {},
     "output_type": "execute_result"
    }
   ],
   "source": [
    " sum([len(set(cntr.keys()))*4 for cntxt, cntr in models.items()])"
   ]
  },
  {
   "cell_type": "code",
   "execution_count": 35,
   "metadata": {},
   "outputs": [
    {
     "data": {
      "text/plain": [
       "296.70703125"
      ]
     },
     "execution_count": 35,
     "metadata": {},
     "output_type": "execute_result"
    }
   ],
   "source": [
    "(21294 + 112952 +28392 + 28238 + 112952)/1024"
   ]
  },
  {
   "cell_type": "code",
   "execution_count": 30,
   "metadata": {},
   "outputs": [
    {
     "data": {
      "text/plain": [
       "28392"
      ]
     },
     "execution_count": 30,
     "metadata": {},
     "output_type": "execute_result"
    }
   ],
   "source": [
    "bytes_for_m = len(models.keys()) * 4\n",
    "bytes_for_m"
   ]
  },
  {
   "cell_type": "code",
   "execution_count": 27,
   "metadata": {},
   "outputs": [
    {
     "data": {
      "text/plain": [
       "'0.15495681762695312 mB'"
      ]
     },
     "execution_count": 27,
     "metadata": {},
     "output_type": "execute_result"
    }
   ],
   "source": [
    "bytes_for_contexts = len(models.keys())*3 \n",
    "bytes_for_cntrs = len(cnt_values) * 4 # int - 4 bytes\n",
    "bytes_for_symbols = len(cnt_values)\n",
    "f\"{(bytes_for_contexts + bytes_for_cntrs + bytes_for_symbols)/(1024**2)} mB\""
   ]
  },
  {
   "cell_type": "code",
   "execution_count": 28,
   "metadata": {},
   "outputs": [
    {
     "data": {
      "text/plain": [
       "112952"
      ]
     },
     "execution_count": 28,
     "metadata": {},
     "output_type": "execute_result"
    }
   ],
   "source": [
    "bytes_for_cntrs"
   ]
  },
  {
   "cell_type": "code",
   "execution_count": 36,
   "metadata": {},
   "outputs": [
    {
     "data": {
      "text/plain": [
       "288.0859375"
      ]
     },
     "execution_count": 36,
     "metadata": {},
     "output_type": "execute_result"
    }
   ],
   "source": [
    "sys.getsizeof(models)/1024"
   ]
  },
  {
   "cell_type": "code",
   "execution_count": 94,
   "metadata": {},
   "outputs": [],
   "source": [
    "# pd.Series(cnt_values).describe()\n"
   ]
  },
  {
   "cell_type": "code",
   "execution_count": 102,
   "metadata": {},
   "outputs": [],
   "source": [
    "test_overglow([4,8,16])"
   ]
  },
  {
   "cell_type": "code",
   "execution_count": 104,
   "metadata": {},
   "outputs": [
    {
     "name": "stdout",
     "output_type": "stream",
     "text": [
      "[4, 8, 16] 63.20751953125\n"
     ]
    }
   ],
   "source": [
    "sc = [4,8,16]\n",
    "\n",
    "decap, _ = TextPreprocessor().decap(text)\n",
    "cntr_by_context=get_context_models(decap)\n",
    "encoded_cm=encode_context_models(cntr_by_context, sc)\n",
    "print(f'{sc} {len(encoded_cm)/(8*1024)}')"
   ]
  },
  {
   "attachments": {},
   "cell_type": "markdown",
   "metadata": {},
   "source": [
    "### Choose the best scheme"
   ]
  },
  {
   "cell_type": "code",
   "execution_count": 90,
   "metadata": {},
   "outputs": [
    {
     "name": "stdout",
     "output_type": "stream",
     "text": [
      "[2, 8, 16] 65.7939453125\n",
      "[4, 8, 16] 63.20751953125\n",
      "[4, 4, 16] 67.0263671875\n",
      "[4, 16, 16] 69.25146484375\n",
      "[4, 6, 16] 63.883544921875\n",
      "[8, 8, 16] 70.37060546875\n"
     ]
    }
   ],
   "source": [
    "for sc in [\n",
    "    [2,8,16],\n",
    "    [4,8,16],\n",
    "    [4,4,16],\n",
    "    [4,16,16],\n",
    "    [4,6,16],\n",
    "    [8,8,16],\n",
    "]:\n",
    "    decap, _ = TextPreprocessor().decap(text)\n",
    "    cntr_by_context=get_context_models(decap)\n",
    "    encoded_cm=encode_context_models(cntr_by_context, sc)\n",
    "    print(f'{sc} {len(encoded_cm)/(8*1024)}')"
   ]
  },
  {
   "cell_type": "code",
   "execution_count": 43,
   "metadata": {},
   "outputs": [],
   "source": [
    "\n",
    "# best=None\n",
    "# best_vol = 10*18\n",
    "# for sc in [\n",
    "#     [x,y,16] for x in range(2,17) for y in range(x+1, 17)\n",
    "# ]:\n",
    "#     decap, _ = TextPreprocessor().decap(text)\n",
    "#     cntr_by_context=get_context_models(decap)\n",
    "#     encoded_cm=encode_context_models(cntr_by_context, sc)\n",
    "#     if len(encoded_cm)< best_vol:\n",
    "#         best_vol=len(encoded_cm)\n",
    "#         best = sc\n",
    "#     print(f'{sc} {len(encoded_cm)/(8*1024)}')\n",
    "\n",
    "# print(f\"BEST {best}\")"
   ]
  },
  {
   "cell_type": "code",
   "execution_count": null,
   "metadata": {},
   "outputs": [],
   "source": []
  }
 ],
 "metadata": {
  "kernelspec": {
   "display_name": "Python 3 (ipykernel)",
   "language": "python",
   "name": "python3"
  },
  "language_info": {
   "codemirror_mode": {
    "name": "ipython",
    "version": 3
   },
   "file_extension": ".py",
   "mimetype": "text/x-python",
   "name": "python",
   "nbconvert_exporter": "python",
   "pygments_lexer": "ipython3",
   "version": "3.10.6"
  }
 },
 "nbformat": 4,
 "nbformat_minor": 4
}
